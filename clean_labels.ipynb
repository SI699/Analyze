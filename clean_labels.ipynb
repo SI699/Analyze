{
 "cells": [
  {
   "cell_type": "code",
   "execution_count": 52,
   "metadata": {},
   "outputs": [],
   "source": [
    "import pandas as pd\n",
    "import pickle\n",
    "\n",
    "from pathlib2 import Path\n"
   ]
  },
  {
   "cell_type": "code",
   "execution_count": 53,
   "metadata": {},
   "outputs": [],
   "source": [
    "labels_dir = Path('labels')"
   ]
  },
  {
   "attachments": {},
   "cell_type": "markdown",
   "metadata": {},
   "source": [
    "## Clean visual features"
   ]
  },
  {
   "cell_type": "code",
   "execution_count": 65,
   "metadata": {},
   "outputs": [
    {
     "data": {
      "text/html": [
       "<div>\n",
       "<style scoped>\n",
       "    .dataframe tbody tr th:only-of-type {\n",
       "        vertical-align: middle;\n",
       "    }\n",
       "\n",
       "    .dataframe tbody tr th {\n",
       "        vertical-align: top;\n",
       "    }\n",
       "\n",
       "    .dataframe thead th {\n",
       "        text-align: right;\n",
       "    }\n",
       "</style>\n",
       "<table border=\"1\" class=\"dataframe\">\n",
       "  <thead>\n",
       "    <tr style=\"text-align: right;\">\n",
       "      <th></th>\n",
       "      <th>Unnamed: 0</th>\n",
       "      <th>ID</th>\n",
       "      <th>汉字</th>\n",
       "      <th>常用</th>\n",
       "      <th>结构</th>\n",
       "    </tr>\n",
       "  </thead>\n",
       "  <tbody>\n",
       "    <tr>\n",
       "      <th>0</th>\n",
       "      <td>0</td>\n",
       "      <td>1</td>\n",
       "      <td>一</td>\n",
       "      <td>1</td>\n",
       "      <td>单一</td>\n",
       "    </tr>\n",
       "    <tr>\n",
       "      <th>1</th>\n",
       "      <td>1</td>\n",
       "      <td>2</td>\n",
       "      <td>乙</td>\n",
       "      <td>1</td>\n",
       "      <td>单一</td>\n",
       "    </tr>\n",
       "    <tr>\n",
       "      <th>2</th>\n",
       "      <td>2</td>\n",
       "      <td>3</td>\n",
       "      <td>二</td>\n",
       "      <td>1</td>\n",
       "      <td>单一</td>\n",
       "    </tr>\n",
       "    <tr>\n",
       "      <th>3</th>\n",
       "      <td>3</td>\n",
       "      <td>4</td>\n",
       "      <td>十</td>\n",
       "      <td>1</td>\n",
       "      <td>单一</td>\n",
       "    </tr>\n",
       "    <tr>\n",
       "      <th>4</th>\n",
       "      <td>4</td>\n",
       "      <td>5</td>\n",
       "      <td>丁</td>\n",
       "      <td>1</td>\n",
       "      <td>单一</td>\n",
       "    </tr>\n",
       "  </tbody>\n",
       "</table>\n",
       "</div>"
      ],
      "text/plain": [
       "   Unnamed: 0  ID 汉字  常用  结构\n",
       "0           0   1  一   1  单一\n",
       "1           1   2  乙   1  单一\n",
       "2           2   3  二   1  单一\n",
       "3           3   4  十   1  单一\n",
       "4           4   5  丁   1  单一"
      ]
     },
     "execution_count": 65,
     "metadata": {},
     "output_type": "execute_result"
    }
   ],
   "source": [
    "visual_labels_df = pd.read_csv(labels_dir / 'visual_labels.csv', sep='\\t')\n",
    "visual_labels_df.head()"
   ]
  },
  {
   "cell_type": "code",
   "execution_count": 66,
   "metadata": {},
   "outputs": [],
   "source": [
    "visual_labels_df = visual_labels_df[visual_labels_df['常用'] == 1]"
   ]
  },
  {
   "cell_type": "code",
   "execution_count": 67,
   "metadata": {},
   "outputs": [
    {
     "data": {
      "text/plain": [
       "array(['单一', '上下', '左右', '左上包', '半包', '上三包', '下三包', '右上包', '全包', '左下包',\n",
       "       '上中下', '品字', '左中右', '镶嵌'], dtype=object)"
      ]
     },
     "execution_count": 67,
     "metadata": {},
     "output_type": "execute_result"
    }
   ],
   "source": [
    "visual_labels_df['结构'].unique()"
   ]
  },
  {
   "cell_type": "code",
   "execution_count": 68,
   "metadata": {},
   "outputs": [],
   "source": [
    "mapping_dict = {\n",
    "    '单一': 'Unicomponent',\n",
    "    '上下': 'Vertical juxtaposition',\n",
    "    '左右': 'Horizontal juxtaposition',\n",
    "    '左上包': 'Upper-left enclosing',\n",
    "    '半包': 'Semi-enclosing',\n",
    "    '上三包': 'Three-part upper enclosing',\n",
    "    '下三包': 'Three-part lower enclosing',\n",
    "    '右上包': 'Upper-right enclosing',\n",
    "    '全包': 'Complete enclosing',\n",
    "    '左下包': 'Lower-left enclosing',\n",
    "    '镶嵌': 'Embedded',\n",
    "    '上中下': 'Vertical trisection',\n",
    "    '品字': 'Trigram',\n",
    "    '左中右': 'Horizontal trisection',\n",
    "}"
   ]
  },
  {
   "cell_type": "code",
   "execution_count": 69,
   "metadata": {},
   "outputs": [],
   "source": [
    "visual_labels_df['结构'] = visual_labels_df['结构'].map(lambda x: mapping_dict[x] if x in mapping_dict else 'Other')"
   ]
  },
  {
   "cell_type": "code",
   "execution_count": 70,
   "metadata": {},
   "outputs": [],
   "source": [
    "visual_labels_df.rename(columns={'结构': 'Structure', '汉字': 'Hanzi'}, inplace=True)"
   ]
  },
  {
   "cell_type": "code",
   "execution_count": 71,
   "metadata": {},
   "outputs": [],
   "source": [
    "index_dict = {\n",
    "    structure: i for i, structure in enumerate(visual_labels_df['Structure'].unique())\n",
    "}\n",
    "save_index_dict = {\n",
    "    i: structure for i, structure in enumerate(visual_labels_df['Structure'].unique())\n",
    "}\n",
    "pickle.dump(save_index_dict, open(labels_dir / 'visual_labels_index_dict.pkl', 'wb'))"
   ]
  },
  {
   "cell_type": "code",
   "execution_count": 72,
   "metadata": {},
   "outputs": [],
   "source": [
    "visual_labels_df['label_index'] = visual_labels_df['Structure'].map(lambda x: index_dict[x])"
   ]
  },
  {
   "cell_type": "code",
   "execution_count": 73,
   "metadata": {},
   "outputs": [],
   "source": [
    "visual_labels_df.drop(columns=['Unnamed: 0', 'ID', '常用'], inplace=True)"
   ]
  },
  {
   "cell_type": "code",
   "execution_count": 74,
   "metadata": {},
   "outputs": [],
   "source": [
    "visual_labels_df.to_csv(labels_dir / 'visual_labels_cleaned.csv', index=False)"
   ]
  }
 ],
 "metadata": {
  "kernelspec": {
   "display_name": "base",
   "language": "python",
   "name": "python3"
  },
  "language_info": {
   "codemirror_mode": {
    "name": "ipython",
    "version": 3
   },
   "file_extension": ".py",
   "mimetype": "text/x-python",
   "name": "python",
   "nbconvert_exporter": "python",
   "pygments_lexer": "ipython3",
   "version": "3.9.5"
  },
  "orig_nbformat": 4,
  "vscode": {
   "interpreter": {
    "hash": "c8096d1454e3624a326c6294fdb446e72542397b4160fa8318f9dc24bee15a75"
   }
  }
 },
 "nbformat": 4,
 "nbformat_minor": 2
}
