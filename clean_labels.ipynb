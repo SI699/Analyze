{
 "cells": [
  {
   "cell_type": "code",
   "execution_count": 2,
   "metadata": {},
   "outputs": [],
   "source": [
    "import pandas as pd\n",
    "import pickle\n",
    "import re\n",
    "\n",
    "from pathlib2 import Path\n"
   ]
  },
  {
   "cell_type": "code",
   "execution_count": 3,
   "metadata": {},
   "outputs": [],
   "source": [
    "labels_dir = Path('labels')"
   ]
  },
  {
   "cell_type": "code",
   "execution_count": 14,
   "metadata": {},
   "outputs": [],
   "source": [
    "def filter_chinese_characters(char_list):\n",
    "    chinese_character_pattern = r'[\\u4e00-\\u9fff]'\n",
    "    return [\n",
    "        char for char in char_list if re.match(chinese_character_pattern, char)\n",
    "    ]\n"
   ]
  },
  {
   "attachments": {},
   "cell_type": "markdown",
   "metadata": {},
   "source": [
    "## Clean visual features"
   ]
  },
  {
   "cell_type": "code",
   "execution_count": 4,
   "metadata": {},
   "outputs": [
    {
     "data": {
      "text/html": [
       "<div>\n",
       "<style scoped>\n",
       "    .dataframe tbody tr th:only-of-type {\n",
       "        vertical-align: middle;\n",
       "    }\n",
       "\n",
       "    .dataframe tbody tr th {\n",
       "        vertical-align: top;\n",
       "    }\n",
       "\n",
       "    .dataframe thead th {\n",
       "        text-align: right;\n",
       "    }\n",
       "</style>\n",
       "<table border=\"1\" class=\"dataframe\">\n",
       "  <thead>\n",
       "    <tr style=\"text-align: right;\">\n",
       "      <th></th>\n",
       "      <th>Unnamed: 0</th>\n",
       "      <th>ID</th>\n",
       "      <th>汉字</th>\n",
       "      <th>常用</th>\n",
       "      <th>结构</th>\n",
       "    </tr>\n",
       "  </thead>\n",
       "  <tbody>\n",
       "    <tr>\n",
       "      <th>0</th>\n",
       "      <td>0</td>\n",
       "      <td>1</td>\n",
       "      <td>一</td>\n",
       "      <td>1</td>\n",
       "      <td>单一</td>\n",
       "    </tr>\n",
       "    <tr>\n",
       "      <th>1</th>\n",
       "      <td>1</td>\n",
       "      <td>2</td>\n",
       "      <td>乙</td>\n",
       "      <td>1</td>\n",
       "      <td>单一</td>\n",
       "    </tr>\n",
       "    <tr>\n",
       "      <th>2</th>\n",
       "      <td>2</td>\n",
       "      <td>3</td>\n",
       "      <td>二</td>\n",
       "      <td>1</td>\n",
       "      <td>单一</td>\n",
       "    </tr>\n",
       "    <tr>\n",
       "      <th>3</th>\n",
       "      <td>3</td>\n",
       "      <td>4</td>\n",
       "      <td>十</td>\n",
       "      <td>1</td>\n",
       "      <td>单一</td>\n",
       "    </tr>\n",
       "    <tr>\n",
       "      <th>4</th>\n",
       "      <td>4</td>\n",
       "      <td>5</td>\n",
       "      <td>丁</td>\n",
       "      <td>1</td>\n",
       "      <td>单一</td>\n",
       "    </tr>\n",
       "  </tbody>\n",
       "</table>\n",
       "</div>"
      ],
      "text/plain": [
       "   Unnamed: 0  ID 汉字  常用  结构\n",
       "0           0   1  一   1  单一\n",
       "1           1   2  乙   1  单一\n",
       "2           2   3  二   1  单一\n",
       "3           3   4  十   1  单一\n",
       "4           4   5  丁   1  单一"
      ]
     },
     "execution_count": 4,
     "metadata": {},
     "output_type": "execute_result"
    }
   ],
   "source": [
    "visual_labels_df = pd.read_csv(labels_dir / 'visual_labels.csv', sep='\\t')\n",
    "visual_labels_df.head()"
   ]
  },
  {
   "cell_type": "code",
   "execution_count": 5,
   "metadata": {},
   "outputs": [],
   "source": [
    "visual_labels_df = visual_labels_df[visual_labels_df['常用'] == 1]"
   ]
  },
  {
   "cell_type": "code",
   "execution_count": 6,
   "metadata": {},
   "outputs": [
    {
     "data": {
      "text/plain": [
       "array(['单一', '上下', '左右', '左上包', '半包', '上三包', '下三包', '右上包', '全包', '左下包',\n",
       "       '上中下', '品字', '左中右', '镶嵌'], dtype=object)"
      ]
     },
     "execution_count": 6,
     "metadata": {},
     "output_type": "execute_result"
    }
   ],
   "source": [
    "visual_labels_df['结构'].unique()"
   ]
  },
  {
   "cell_type": "code",
   "execution_count": 68,
   "metadata": {},
   "outputs": [],
   "source": [
    "mapping_dict = {\n",
    "    '单一': 'Unicomponent',\n",
    "    '上下': 'Vertical juxtaposition',\n",
    "    '左右': 'Horizontal juxtaposition',\n",
    "    '左上包': 'Upper-left enclosing',\n",
    "    '半包': 'Semi-enclosing',\n",
    "    '上三包': 'Three-part upper enclosing',\n",
    "    '下三包': 'Three-part lower enclosing',\n",
    "    '右上包': 'Upper-right enclosing',\n",
    "    '全包': 'Complete enclosing',\n",
    "    '左下包': 'Lower-left enclosing',\n",
    "    '镶嵌': 'Embedded',\n",
    "    '上中下': 'Vertical trisection',\n",
    "    '品字': 'Trigram',\n",
    "    '左中右': 'Horizontal trisection',\n",
    "}"
   ]
  },
  {
   "cell_type": "code",
   "execution_count": 69,
   "metadata": {},
   "outputs": [],
   "source": [
    "visual_labels_df['结构'] = visual_labels_df['结构'].map(lambda x: mapping_dict[x] if x in mapping_dict else 'Other')"
   ]
  },
  {
   "cell_type": "code",
   "execution_count": 70,
   "metadata": {},
   "outputs": [],
   "source": [
    "visual_labels_df.rename(columns={'结构': 'Structure', '汉字': 'Hanzi'}, inplace=True)"
   ]
  },
  {
   "cell_type": "code",
   "execution_count": 71,
   "metadata": {},
   "outputs": [],
   "source": [
    "index_dict = {\n",
    "    structure: i for i, structure in enumerate(visual_labels_df['Structure'].unique())\n",
    "}\n",
    "save_index_dict = {\n",
    "    i: structure for i, structure in enumerate(visual_labels_df['Structure'].unique())\n",
    "}\n",
    "pickle.dump(save_index_dict, open(labels_dir / 'visual_labels_index_dict.pkl', 'wb'))"
   ]
  },
  {
   "cell_type": "code",
   "execution_count": 72,
   "metadata": {},
   "outputs": [],
   "source": [
    "visual_labels_df['label_index'] = visual_labels_df['Structure'].map(lambda x: index_dict[x])"
   ]
  },
  {
   "cell_type": "code",
   "execution_count": 73,
   "metadata": {},
   "outputs": [],
   "source": [
    "visual_labels_df.drop(columns=['Unnamed: 0', 'ID', '常用'], inplace=True)"
   ]
  },
  {
   "cell_type": "code",
   "execution_count": 74,
   "metadata": {},
   "outputs": [],
   "source": [
    "visual_labels_df.to_csv(labels_dir / 'visual_labels_cleaned.csv', index=False)"
   ]
  },
  {
   "attachments": {},
   "cell_type": "markdown",
   "metadata": {},
   "source": [
    "## Clean definition labels"
   ]
  },
  {
   "cell_type": "code",
   "execution_count": 59,
   "metadata": {},
   "outputs": [],
   "source": [
    "def_labels = pd.read_csv(labels_dir / 'definition_labels.csv', sep='\\t', index_col=0)"
   ]
  },
  {
   "cell_type": "code",
   "execution_count": 60,
   "metadata": {},
   "outputs": [
    {
     "data": {
      "text/html": [
       "<div>\n",
       "<style scoped>\n",
       "    .dataframe tbody tr th:only-of-type {\n",
       "        vertical-align: middle;\n",
       "    }\n",
       "\n",
       "    .dataframe tbody tr th {\n",
       "        vertical-align: top;\n",
       "    }\n",
       "\n",
       "    .dataframe thead th {\n",
       "        text-align: right;\n",
       "    }\n",
       "</style>\n",
       "<table border=\"1\" class=\"dataframe\">\n",
       "  <thead>\n",
       "    <tr style=\"text-align: right;\">\n",
       "      <th></th>\n",
       "      <th>汉字</th>\n",
       "      <th>形声</th>\n",
       "      <th>形</th>\n",
       "      <th>声</th>\n",
       "    </tr>\n",
       "  </thead>\n",
       "  <tbody>\n",
       "    <tr>\n",
       "      <th>0</th>\n",
       "      <td>一</td>\n",
       "      <td>0</td>\n",
       "      <td>NaN</td>\n",
       "      <td>NaN</td>\n",
       "    </tr>\n",
       "    <tr>\n",
       "      <th>1</th>\n",
       "      <td>丁</td>\n",
       "      <td>0</td>\n",
       "      <td>NaN</td>\n",
       "      <td>NaN</td>\n",
       "    </tr>\n",
       "    <tr>\n",
       "      <th>2</th>\n",
       "      <td>七</td>\n",
       "      <td>0</td>\n",
       "      <td>NaN</td>\n",
       "      <td>NaN</td>\n",
       "    </tr>\n",
       "    <tr>\n",
       "      <th>3</th>\n",
       "      <td>万</td>\n",
       "      <td>0</td>\n",
       "      <td>NaN</td>\n",
       "      <td>NaN</td>\n",
       "    </tr>\n",
       "    <tr>\n",
       "      <th>4</th>\n",
       "      <td>丈</td>\n",
       "      <td>0</td>\n",
       "      <td>NaN</td>\n",
       "      <td>NaN</td>\n",
       "    </tr>\n",
       "  </tbody>\n",
       "</table>\n",
       "</div>"
      ],
      "text/plain": [
       "  汉字  形声    形    声\n",
       "0  一   0  NaN  NaN\n",
       "1  丁   0  NaN  NaN\n",
       "2  七   0  NaN  NaN\n",
       "3  万   0  NaN  NaN\n",
       "4  丈   0  NaN  NaN"
      ]
     },
     "execution_count": 60,
     "metadata": {},
     "output_type": "execute_result"
    }
   ],
   "source": [
    "def_labels.head()"
   ]
  },
  {
   "cell_type": "code",
   "execution_count": 61,
   "metadata": {},
   "outputs": [],
   "source": [
    "def_labels.rename(columns={\n",
    "    '汉字': 'Hanzi',\n",
    "    '形声': 'pictophonetic',\n",
    "    '形': 'semantic_component',\n",
    "    '声': 'phonetic_component'\n",
    "},\n",
    "                  inplace=True)\n"
   ]
  },
  {
   "cell_type": "code",
   "execution_count": 62,
   "metadata": {},
   "outputs": [
    {
     "name": "stdout",
     "output_type": "stream",
     "text": [
      "Have 204 semantic components\n",
      "Have 917 phonetic components\n"
     ]
    }
   ],
   "source": [
    "semantic_components = filter_chinese_characters(def_labels['semantic_component'].dropna().unique().tolist())\n",
    "phonetic_components = filter_chinese_characters(def_labels['phonetic_component'].dropna().unique().tolist())\n",
    "print('Have {} semantic components'.format(len(semantic_components)))\n",
    "print('Have {} phonetic components'.format(len(phonetic_components)))"
   ]
  },
  {
   "cell_type": "code",
   "execution_count": 63,
   "metadata": {},
   "outputs": [],
   "source": [
    "semantic_index_dict = {\n",
    "    semantic_component : i for i, semantic_component in enumerate(semantic_components)\n",
    "}\n",
    "save_semantic_index_dict = {\n",
    "    i: semantic_component for i, semantic_component in enumerate(semantic_components)\n",
    "}\n",
    "phonetic_index_dict = {\n",
    "    phonetic_components : i for i, phonetic_components in enumerate(phonetic_components)\n",
    "}\n",
    "save_phonetic_index_dict = {\n",
    "    i: phonetic_components for i, phonetic_components in enumerate(phonetic_components)\n",
    "}\n",
    "pickle.dump(save_semantic_index_dict, open(labels_dir / 'semantic_labels_index_dict.pkl', 'wb'))\n",
    "pickle.dump(save_phonetic_index_dict, open(labels_dir / 'phonetic_labels_index_dict.pkl', 'wb'))"
   ]
  },
  {
   "cell_type": "code",
   "execution_count": 66,
   "metadata": {},
   "outputs": [],
   "source": [
    "semantic_labels = def_labels[def_labels['semantic_component'].isin(semantic_components)].copy()\n",
    "phonetic_labels = def_labels[def_labels['phonetic_component'].isin(phonetic_components)].copy()"
   ]
  },
  {
   "cell_type": "code",
   "execution_count": 67,
   "metadata": {},
   "outputs": [],
   "source": [
    "semantic_labels['semantic_index'] = semantic_labels['semantic_component'].map(lambda x: semantic_index_dict[x])\n",
    "phonetic_labels['phonetic_index'] = phonetic_labels['phonetic_component'].map(lambda x: phonetic_index_dict[x])"
   ]
  },
  {
   "cell_type": "code",
   "execution_count": 68,
   "metadata": {},
   "outputs": [],
   "source": [
    "semantic_labels[['Hanzi', 'semantic_index']].rename(columns={'semantic_index': 'label_index'}).to_csv(labels_dir / 'semantic_labels_cleaned.csv', index=False)\n",
    "phonetic_labels[['Hanzi', 'phonetic_index']].rename(columns={'phonetic_index': 'label_index'}).to_csv(labels_dir / 'phonetic_labels_cleaned.csv', index=False)"
   ]
  }
 ],
 "metadata": {
  "kernelspec": {
   "display_name": "base",
   "language": "python",
   "name": "python3"
  },
  "language_info": {
   "codemirror_mode": {
    "name": "ipython",
    "version": 3
   },
   "file_extension": ".py",
   "mimetype": "text/x-python",
   "name": "python",
   "nbconvert_exporter": "python",
   "pygments_lexer": "ipython3",
   "version": "3.9.5"
  },
  "orig_nbformat": 4,
  "vscode": {
   "interpreter": {
    "hash": "c8096d1454e3624a326c6294fdb446e72542397b4160fa8318f9dc24bee15a75"
   }
  }
 },
 "nbformat": 4,
 "nbformat_minor": 2
}
