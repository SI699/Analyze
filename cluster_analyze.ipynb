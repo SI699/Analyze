{
 "cells": [
  {
   "attachments": {},
   "cell_type": "markdown",
   "metadata": {},
   "source": [
    "# Analyze the visual embedding space and the semantic embedding space using given categories"
   ]
  },
  {
   "attachments": {},
   "cell_type": "markdown",
   "metadata": {},
   "source": [
    "## Define useful tools and metrics"
   ]
  },
  {
   "cell_type": "code",
   "execution_count": 3,
   "metadata": {},
   "outputs": [],
   "source": [
    "import numpy as np\n",
    "from sklearn.cluster import KMeans\n",
    "from sklearn.metrics import adjusted_rand_score, normalized_mutual_info_score, confusion_matrix"
   ]
  },
  {
   "cell_type": "code",
   "execution_count": 1,
   "metadata": {},
   "outputs": [],
   "source": [
    "def cluster_embeddings(embeddings_array, k):\n",
    "    kmeans = KMeans(n_clusters=k, random_state=42).fit(embeddings_array)\n",
    "\n",
    "    # Get the cluster labels and centroids\n",
    "    cluster_labels = kmeans.labels_\n",
    "    cluster_centroids = kmeans.cluster_centers_\n",
    "\n",
    "    return cluster_labels, cluster_centroids"
   ]
  },
  {
   "cell_type": "code",
   "execution_count": 13,
   "metadata": {},
   "outputs": [],
   "source": [
    "def analyze_label_relationship(labels1, labels2):\n",
    "    # Calculate the Adjusted Rand Index\n",
    "    ari = adjusted_rand_score(labels1, labels2)\n",
    "\n",
    "    # Calculate the Normalized Mutual Information\n",
    "    nmi = normalized_mutual_info_score(labels1, labels2)\n",
    "\n",
    "    # Calculate the Contingency Matrix (confusion matrix)\n",
    "    cm = confusion_matrix(labels1, labels2)\n",
    "    \n",
    "    # Sum the maximum values of each row\n",
    "    max_values_sum = np.sum(np.amax(cm, axis=1))\n",
    "    \n",
    "    # Calculate purity\n",
    "    purity = max_values_sum / np.sum(cm)\n",
    "\n",
    "    return ari, nmi, purity, cm\n"
   ]
  },
  {
   "cell_type": "code",
   "execution_count": null,
   "metadata": {},
   "outputs": [],
   "source": [
    "def analyze(labels, embeddings):\n",
    "    k = len(labels)\n",
    "    cluster_labels, cluster_centroids = cluster_embeddings(embeddings, k)\n",
    "    ari, nmi, purity, cm = analyze_label_relationship(cluster_labels, labels1)\n",
    "    \n",
    "    print('The cluster centroids are:\\n', cluster_centroids)\n",
    "    \n",
    "    print(\"Adjusted Rand Index:\", ari)\n",
    "    print(\"Normalized Mutual Information:\", nmi)\n",
    "    print('Purity:', purity)\n",
    "    print(\"Contingency Matrix (confusion matrix):\\n\", cm)\n",
    "    return ari, nmi, purity, cm, cluster_centroids\n",
    "    "
   ]
  },
  {
   "cell_type": "code",
   "execution_count": null,
   "metadata": {},
   "outputs": [],
   "source": [
    "def align_labels(labels_df, embeddings):\n",
    "    result_embeddings = np.array([embeddings[hanzi] for hanzi in labels_df['hanzi'].values])\n",
    "    return labels_df['label'].values.to_array(), result_embeddings"
   ]
  }
 ],
 "metadata": {
  "kernelspec": {
   "display_name": "base",
   "language": "python",
   "name": "python3"
  },
  "language_info": {
   "codemirror_mode": {
    "name": "ipython",
    "version": 3
   },
   "file_extension": ".py",
   "mimetype": "text/x-python",
   "name": "python",
   "nbconvert_exporter": "python",
   "pygments_lexer": "ipython3",
   "version": "3.9.5"
  },
  "orig_nbformat": 4
 },
 "nbformat": 4,
 "nbformat_minor": 2
}
